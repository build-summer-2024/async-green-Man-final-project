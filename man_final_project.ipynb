{
 "cells": [
  {
   "cell_type": "code",
   "execution_count": null,
   "metadata": {},
   "outputs": [],
   "source": [
    "import pandas as pd\n",
    "import seaborn as sns\n",
    "import matplotlib.pyplot as plt\n",
    "\n",
    "SMCS_df = pd.read_csv('Shopping Mall Customer Segmentation Data .csv')\n",
    "display(SMCS_df)\n"
   ]
  },
  {
   "cell_type": "code",
   "execution_count": null,
   "metadata": {},
   "outputs": [],
   "source": [
    "#Since this is 2 years ago, Gen Z 18-25, Millenials 26-41, Gen X 42-57, Baby Boomers 58-76, The Silent Generation 77-94\n",
    "genZ_segment = SMCS_df.loc[(SMCS_df[\"Age\"] >= 18) & (SMCS_df[\"Age\"] <= 25)]\n",
    "millenial_segment = SMCS_df.loc[(SMCS_df[\"Age\"] >= 26) & (SMCS_df[\"Age\"] <= 41)]\n",
    "genX_segment = SMCS_df.loc[(SMCS_df[\"Age\"] >= 42) & (SMCS_df[\"Age\"] <= 57)]\n",
    "bboom_segment = SMCS_df.loc[(SMCS_df[\"Age\"] >= 58) & (SMCS_df[\"Age\"] <= 76)]\n",
    "silent_segment = SMCS_df.loc[(SMCS_df[\"Age\"] >= 77) & (SMCS_df[\"Age\"] <= 94)]"
   ]
  },
  {
   "cell_type": "code",
   "execution_count": null,
   "metadata": {},
   "outputs": [],
   "source": [
    "#finding the averages\n",
    "generation_average_spending_scores = {\n",
    "    'Gen Z': genZ_segment[\"Spending Score\"].mean(),\n",
    "    'Millenial': millenial_segment[\"Spending Score\"].mean(),\n",
    "    'Gen X': genX_segment[\"Spending Score\"].mean(),\n",
    "    'Baby Boomers': bboom_segment[\"Spending Score\"].mean(),\n",
    "    'Silent Generation': silent_segment[\"Spending Score\"].mean()\n",
    "}\n",
    "\n",
    "#bar graph\n",
    "plt.figure(figsize=(10, 9))\n",
    "generation_average_spending_scores_barplot = sns.barplot(x=list(generation_average_spending_scores.keys()),y=list(generation_average_spending_scores.values()))\n",
    "\n",
    "#annotating numbers\n",
    "for i in range(len(generation_average_spending_scores)):\n",
    "    generation_average_spending_scores_barplot.text(i,list(generation_average_spending_scores.values())[i] + 1,\n",
    "    f'{list(generation_average_spending_scores.values())[i]:.1f}',\n",
    "    ha='center',va='bottom', fontsize= 12)\n",
    "\n",
    "plt.xlabel('Age Segments')\n",
    "plt.ylabel('Average Spending Score (1-100)')\n",
    "plt.title('Average Spending Score by Age Segments')\n",
    "plt.show()\n"
   ]
  },
  {
   "cell_type": "code",
   "execution_count": null,
   "metadata": {},
   "outputs": [],
   "source": [
    "#What percentage does each group make up of the market?\n",
    "generation_segmentation = {\n",
    "    'Gen Z': len(genZ_segment),\n",
    "    'Millenial': len(millenial_segment),\n",
    "    'Gen X': len(genX_segment),\n",
    "    'Baby Boomers': len(bboom_segment),\n",
    "    'Silent Generation': len(silent_segment)\n",
    "}\n",
    "\n",
    "#Pie Chart\n",
    "plt.figure(figsize=(10,6))\n",
    "plt.pie(generation_segmentation.values(),labels=generation_segmentation.keys(),autopct='%1.1f%%')\n",
    "plt.title('Customer Distribution by Age Segments')\n",
    "plt.show"
   ]
  },
  {
   "cell_type": "code",
   "execution_count": null,
   "metadata": {},
   "outputs": [],
   "source": [
    "#Segmentation of generation, split again by gender\n",
    "genZ_segment_male = genZ_segment.loc[genZ_segment[\"Gender\"] == \"Male\"]\n",
    "genZ_segment_female = genZ_segment.loc[genZ_segment[\"Gender\"] == \"Female\"]\n",
    "millenial_segment_male = millenial_segment.loc[millenial_segment[\"Gender\"] == \"Male\"]\n",
    "millenial_segment_female = millenial_segment.loc[millenial_segment[\"Gender\"] == \"Female\"]\n",
    "genX_segment_male = genX_segment.loc[genX_segment[\"Gender\"] == \"Male\"]\n",
    "genX_segment_female = genX_segment.loc[genX_segment[\"Gender\"] == \"Female\"]\n",
    "bboom_segment_male = bboom_segment.loc[bboom_segment[\"Gender\"] == \"Male\"]\n",
    "bboom_segment_female = bboom_segment.loc[bboom_segment[\"Gender\"] == \"Female\"]\n",
    "silent_segment_male = silent_segment.loc[silent_segment[\"Gender\"] == \"Male\"]\n",
    "silent_segment_female = silent_segment.loc[silent_segment[\"Gender\"] == \"Female\"]\n"
   ]
  },
  {
   "cell_type": "code",
   "execution_count": null,
   "metadata": {},
   "outputs": [],
   "source": [
    "#Find the size of each of these populations\n",
    "generation_gender_segmentation = {\n",
    "    'Gen Z, Male': len(genZ_segment_male),\n",
    "    'Millenial, Male': len(millenial_segment_male),\n",
    "    'Gen X, Male': len(genX_segment_male),\n",
    "    'Baby Boomers, Male': len(bboom_segment_male),\n",
    "    'Silent Generation, Male': len(silent_segment_male),\n",
    "    'Gen Z, Female': len(genZ_segment_female),\n",
    "    'Millenial, Female': len(millenial_segment_female),\n",
    "    'Gen X, Female': len(genX_segment_female),\n",
    "    'Baby Boomers, Female': len(bboom_segment_female),\n",
    "    'Silent Generation, Female': len(silent_segment_female),\n",
    "}\n",
    "\n",
    "#Calculate percentages for two groups\n",
    "total_male = sum([generation_gender_segmentation[key] for key in generation_gender_segmentation if 'Male' in key])\n",
    "total_female = sum([generation_gender_segmentation[key] for key in generation_gender_segmentation if 'Female' in key])\n",
    "total = total_male + total_female\n",
    "\n",
    "male_percentage = total_male / total * 100\n",
    "female_percentage = total_female / total * 100\n",
    "\n",
    "\n",
    "#For some reason one more on the Female side becomes Red as well, going to input manually\n",
    "colors_male = plt.cm.Reds(range(100, 256, 31))  \n",
    "colors_female = plt.cm.Greens(range(100, 256, 31))  \n",
    "'''Original Attempt: \n",
    "colors = list(colors_male) + list(colors_female)\n",
    "caused one of the female ones to be Red isntead of Green'''\n",
    "\n",
    "colors = []\n",
    "for i, key in enumerate(generation_gender_segmentation.keys()):\n",
    "    if 'Male' in key:\n",
    "        colors.append(colors_male[i % len(colors_male)])\n",
    "    else:\n",
    "        colors.append(colors_female[i % len(colors_female)])\n",
    "\n",
    "#Pie Chart\n",
    "plt.figure(figsize=(10,6))\n",
    "plt.pie(generation_gender_segmentation.values(),labels=generation_gender_segmentation.keys(),autopct='%1.1f%%', colors=colors, startangle = 140)\n",
    "plt.title('Customer Distribution by Age Segments, and Gender')\n",
    "plt.text(-2, -1.5, f'Total Male: {male_percentage:.1f}%\\nTotal Female: {female_percentage:.1f}%', fontsize=12)\n",
    "plt.show"
   ]
  },
  {
   "cell_type": "code",
   "execution_count": null,
   "metadata": {},
   "outputs": [],
   "source": [
    "#Segmentation based on Census Bureau's Income in the United States 2022 Report:\n",
    "lc = SMCS_df.loc[SMCS_df['Annual Income'] < 30000]\n",
    "lmc = SMCS_df.loc[(SMCS_df['Annual Income'] > 30000) & (SMCS_df['Annual Income'] < 58020) ]\n",
    "mc = SMCS_df.loc[(SMCS_df['Annual Income'] > 58020) & (SMCS_df['Annual Income'] < 94000) ]\n",
    "umc = SMCS_df.loc[(SMCS_df['Annual Income'] > 94000) & (SMCS_df['Annual Income'] < 153000) ]\n",
    "uc = SMCS_df.loc[SMCS_df['Annual Income'] > 153000]\n"
   ]
  },
  {
   "cell_type": "code",
   "execution_count": null,
   "metadata": {},
   "outputs": [],
   "source": [
    "income_segmentation = {\n",
    "    'Lower Class': len(lc),\n",
    "    'Lower-Middle Clas': len(lmc),\n",
    "    'Middle Class': len(mc),\n",
    "    'Upper-Middle Class': len(umc),\n",
    "    'Upper Class': len(uc)\n",
    "}\n",
    "\n",
    "#Pie Chart\n",
    "plt.figure(figsize=(10,6))\n",
    "plt.pie(income_segmentation.values(),labels=income_segmentation.keys(),autopct='%1.1f%%')\n",
    "plt.title('Customer Distribution by Income Segments')\n",
    "plt.show"
   ]
  },
  {
   "cell_type": "code",
   "execution_count": 24,
   "metadata": {},
   "outputs": [],
   "source": [
    "sc1 = SMCS_df.loc[SMCS_df['Spending Score']<=25]\n",
    "sc2 = SMCS_df.loc[(SMCS_df['Spending Score'] >= 26) & (SMCS_df['Spending Score']) <= 50]\n",
    "sc3 = SMCS_df.loc[(SMCS_df['Spending Score'] >= 51) & (SMCS_df['Spending Score']) <= 75]\n",
    "sc4 = SMCS_df.loc[(SMCS_df['Spending Score'] >= 76) & (SMCS_df['Spending Score']) <= 100]"
   ]
  },
  {
   "cell_type": "code",
   "execution_count": null,
   "metadata": {},
   "outputs": [],
   "source": [
    "spending_score_segmentation = {\n",
    "    'Low Spending Score': len(sc1),\n",
    "    'Mid Low Spending Score': len(sc2),\n",
    "    'Mid High Spening Score': len(sc3),\n",
    "    'High Spending Score': len(sc4)\n",
    "}\n",
    "\n",
    "plt.figure(figsize=(10,6))\n",
    "plt.pie(spending_score_segmentation.values(),labels=spending_score_segmentation.keys(),autopct='%1.1f%%')\n",
    "plt.title('Customer Distribution by Income Segments')\n",
    "plt.show"
   ]
  }
 ],
 "metadata": {
  "kernelspec": {
   "display_name": "Python 3",
   "language": "python",
   "name": "python3"
  },
  "language_info": {
   "codemirror_mode": {
    "name": "ipython",
    "version": 3
   },
   "file_extension": ".py",
   "mimetype": "text/x-python",
   "name": "python",
   "nbconvert_exporter": "python",
   "pygments_lexer": "ipython3",
   "version": "3.12.4"
  }
 },
 "nbformat": 4,
 "nbformat_minor": 2
}
